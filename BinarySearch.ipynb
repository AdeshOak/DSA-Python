{
  "nbformat": 4,
  "nbformat_minor": 0,
  "metadata": {
    "colab": {
      "provenance": [],
      "authorship_tag": "ABX9TyN62dbpNb8qCZP8Wu2r+XDC",
      "include_colab_link": true
    },
    "kernelspec": {
      "name": "python3",
      "display_name": "Python 3"
    },
    "language_info": {
      "name": "python"
    }
  },
  "cells": [
    {
      "cell_type": "markdown",
      "metadata": {
        "id": "view-in-github",
        "colab_type": "text"
      },
      "source": [
        "<a href=\"https://colab.research.google.com/github/AdeshOak/DSA-Python/blob/main/BinarySearch.ipynb\" target=\"_parent\"><img src=\"https://colab.research.google.com/assets/colab-badge.svg\" alt=\"Open In Colab\"/></a>"
      ]
    },
    {
      "cell_type": "markdown",
      "source": [
        "# Binary Search\n",
        "### - Only used in a SORTED array\n",
        "### - Used to find ->\n",
        "#### 1. In sorted Array : - Position of target/ If target is present or not\n",
        "####                      - Leftmost/Rightmost position of duplicate element\n",
        "####                      - Position for inserting a particular element\n",
        "#### -----------------------------------------------------------------------\n",
        "#### 2. In a rotated sorted array : - Search position of an element"
      ],
      "metadata": {
        "id": "nG91ntSjSg46"
      }
    },
    {
      "cell_type": "code",
      "source": [
        "# Array = [-5,-3,0,1,2,4]"
      ],
      "metadata": {
        "id": "MhPEqgHdSbL6"
      },
      "execution_count": 3,
      "outputs": []
    },
    {
      "cell_type": "code",
      "source": [
        "def binarySearch(array,target):\n",
        "  l = 0\n",
        "  r = len(array)-1\n",
        "  #print(l,r)\n",
        "  while l<=r:\n",
        "    mid = (l+r) // 2\n",
        "    if array[mid] == target:\n",
        "      return True\n",
        "    elif array[mid] > target:\n",
        "      r = mid - 1\n",
        "    else:\n",
        "      l = mid+1\n",
        "  return False\n",
        "\n",
        "Array = [-5,-3,0,1,2,4,6]\n",
        "target = 10\n",
        "\n",
        "print(binarySearch(Array,target))"
      ],
      "metadata": {
        "colab": {
          "base_uri": "https://localhost:8080/"
        },
        "id": "VWScQetxS5bY",
        "outputId": "991cba62-73a9-4252-d8fe-98692bada983"
      },
      "execution_count": 16,
      "outputs": [
        {
          "output_type": "stream",
          "name": "stdout",
          "text": [
            "False\n"
          ]
        }
      ]
    }
  ]
}