{
  "nbformat": 4,
  "nbformat_minor": 0,
  "metadata": {
    "colab": {
      "provenance": [],
      "authorship_tag": "ABX9TyNiX5h4/8x8aTZZsiWlrqf2",
      "include_colab_link": true
    },
    "kernelspec": {
      "name": "python3",
      "display_name": "Python 3"
    },
    "language_info": {
      "name": "python"
    }
  },
  "cells": [
    {
      "cell_type": "markdown",
      "metadata": {
        "id": "view-in-github",
        "colab_type": "text"
      },
      "source": [
        "<a href=\"https://colab.research.google.com/github/AdeshOak/DSA-Python/blob/main/LinkedList.ipynb\" target=\"_parent\"><img src=\"https://colab.research.google.com/assets/colab-badge.svg\" alt=\"Open In Colab\"/></a>"
      ]
    },
    {
      "cell_type": "code",
      "execution_count": 8,
      "metadata": {
        "colab": {
          "base_uri": "https://localhost:8080/"
        },
        "id": "WWzaX8fb6ueX",
        "outputId": "a146ac6b-0225-41b4-e0ba-a754ea07f655"
      },
      "outputs": [
        {
          "output_type": "stream",
          "name": "stdout",
          "text": [
            "1->2->3->4\n"
          ]
        }
      ],
      "source": [
        "#Singly Linked List\n",
        "class Node:\n",
        "  def __init__(self, data, next=None):\n",
        "    self.data = data\n",
        "    self.next = next\n",
        "\n",
        "\n",
        "node1 = Node(1)\n",
        "node2 = Node(2)\n",
        "node3 = Node(3)\n",
        "node4 = Node(4)\n",
        "node1.next = node2\n",
        "node2.next = node3\n",
        "node3.next = node4\n",
        "\n",
        "\n",
        "\n",
        "curr = node1\n",
        "ele = []\n",
        "while curr != None:\n",
        "  ele.append(str(curr.data))\n",
        "  #print(curr.data,\" -> \")\n",
        "  curr = curr.next\n",
        "print(\"->\".join(ele))\n",
        "\n",
        "#Time: O(n)\n"
      ]
    },
    {
      "cell_type": "code",
      "source": [
        "#Search for an element\n",
        "def search(head,val):\n",
        "  curr = head\n",
        "  cnt = 1\n",
        "  while curr != None:\n",
        "    if curr.data == val:\n",
        "      return val,cnt\n",
        "    curr = curr.next\n",
        "    cnt += 1\n",
        "  return False\n",
        "\n",
        "val,pos = search(node1,2)\n",
        "print(\"found value \"+ str(val) + \" at position:\" + str(pos))\n",
        "\n",
        "#Time: O(n)\n"
      ],
      "metadata": {
        "colab": {
          "base_uri": "https://localhost:8080/"
        },
        "id": "GTb4jDau62Nh",
        "outputId": "195f5970-3793-46e6-c98b-32c8205660d5"
      },
      "execution_count": 3,
      "outputs": [
        {
          "output_type": "stream",
          "name": "stdout",
          "text": [
            "found value 2 at position:2\n"
          ]
        }
      ]
    },
    {
      "cell_type": "code",
      "source": [
        "#Doubly Linked List"
      ],
      "metadata": {
        "id": "oQvLJdtX-dRo"
      },
      "execution_count": 24,
      "outputs": []
    },
    {
      "cell_type": "code",
      "source": [
        "class DoubleNode:\n",
        "  def __init__(self, data, next = None, prev= None):\n",
        "    self.data = data\n",
        "    self.next = next\n",
        "    self.prev = prev\n",
        "\n",
        "def displayDlist(head):\n",
        "  curr = head\n",
        "  elements = []\n",
        "  while curr != None:\n",
        "    elements.append(str(curr.data))\n",
        "    curr = curr.next\n",
        "\n",
        "  print(\"<->\".join(elements))\n",
        "\n",
        "\n",
        "dnode1 = DoubleNode(1)\n",
        "dnode2 = DoubleNode(2)\n",
        "dnode1.next = dnode2\n",
        "dnode2.prev = dnode1\n",
        "\n",
        "displayDlist(dnode1)\n"
      ],
      "metadata": {
        "colab": {
          "base_uri": "https://localhost:8080/"
        },
        "id": "PnOzAR6lHBHl",
        "outputId": "3d4e971d-353e-44c6-f67f-cf7c35a48534"
      },
      "execution_count": 9,
      "outputs": [
        {
          "output_type": "stream",
          "name": "stdout",
          "text": [
            "1<->2\n"
          ]
        }
      ]
    },
    {
      "cell_type": "code",
      "source": [
        "#Inserting at the beginning\n",
        "\n",
        "def insert(head,nnode):\n",
        "  nnode.next = head\n",
        "  head.prev = nnode\n",
        "  return nnode\n",
        "\n",
        "\n",
        "nnode = DoubleNode(0)\n",
        "nhead = insert(dnode1,nnode)\n",
        "displayDlist(nhead)"
      ],
      "metadata": {
        "colab": {
          "base_uri": "https://localhost:8080/"
        },
        "id": "_IuanPwhHHwf",
        "outputId": "94b6c6d9-aa48-4962-d20b-8a5a4daae7e2"
      },
      "execution_count": 11,
      "outputs": [
        {
          "output_type": "stream",
          "name": "stdout",
          "text": [
            "0<->1<->2\n"
          ]
        }
      ]
    }
  ]
}