{
  "nbformat": 4,
  "nbformat_minor": 0,
  "metadata": {
    "colab": {
      "provenance": [],
      "authorship_tag": "ABX9TyNm6w/xVJlfHf6L6R1766w2",
      "include_colab_link": true
    },
    "kernelspec": {
      "name": "python3",
      "display_name": "Python 3"
    },
    "language_info": {
      "name": "python"
    }
  },
  "cells": [
    {
      "cell_type": "markdown",
      "metadata": {
        "id": "view-in-github",
        "colab_type": "text"
      },
      "source": [
        "<a href=\"https://colab.research.google.com/github/AdeshOak/DSA-Python/blob/main/Graphs%2C_DFS%2C_BFS.ipynb\" target=\"_parent\"><img src=\"https://colab.research.google.com/assets/colab-badge.svg\" alt=\"Open In Colab\"/></a>"
      ]
    },
    {
      "cell_type": "markdown",
      "source": [
        "We are usually given n which is number of nodes and an array (edge list) which represents the edges between diffrent node of graph. We should convert it into a better interpretable Data structure (Adjacency list preferably)\n"
      ],
      "metadata": {
        "id": "HxdHGuxL5aEM"
      }
    },
    {
      "cell_type": "code",
      "source": [
        "n = 8\n",
        "e = [[0,1],[0,3],[1,2],[3,4],[3,6],[3,7],[4,2],[4,5],[5,2]]\n",
        "\n",
        "print(e)"
      ],
      "metadata": {
        "colab": {
          "base_uri": "https://localhost:8080/"
        },
        "id": "NgGJ2oqN5nIc",
        "outputId": "466360f0-c3b4-4329-c323-f5e6a8d02b8e"
      },
      "execution_count": 1,
      "outputs": [
        {
          "output_type": "stream",
          "name": "stdout",
          "text": [
            "[[0, 1], [0, 3], [1, 2], [3, 4], [3, 6], [3, 7], [4, 2], [4, 5], [5, 2]]\n"
          ]
        }
      ]
    },
    {
      "cell_type": "markdown",
      "source": [
        "### Adjacency Matrix\n"
      ],
      "metadata": {
        "id": "bhphFDQ96qBw"
      }
    },
    {
      "cell_type": "code",
      "source": [
        "m = []\n",
        "\n",
        "for i in range(n):\n",
        "  m.append([0] * n)\n",
        "\n",
        "#print(m)\n",
        "for s,d in e:\n",
        "  m[s][d] = 1\n",
        "\n",
        "m"
      ],
      "metadata": {
        "colab": {
          "base_uri": "https://localhost:8080/"
        },
        "id": "OD0Q5pKh6uoR",
        "outputId": "864841f2-9448-4a38-9431-89007d16fbf8"
      },
      "execution_count": 10,
      "outputs": [
        {
          "output_type": "execute_result",
          "data": {
            "text/plain": [
              "[[0, 1, 0, 1, 0, 0, 0, 0],\n",
              " [0, 0, 1, 0, 0, 0, 0, 0],\n",
              " [0, 0, 0, 0, 0, 0, 0, 0],\n",
              " [0, 0, 0, 0, 1, 0, 1, 1],\n",
              " [0, 0, 1, 0, 0, 1, 0, 0],\n",
              " [0, 0, 1, 0, 0, 0, 0, 0],\n",
              " [0, 0, 0, 0, 0, 0, 0, 0],\n",
              " [0, 0, 0, 0, 0, 0, 0, 0]]"
            ]
          },
          "metadata": {},
          "execution_count": 10
        }
      ]
    },
    {
      "cell_type": "markdown",
      "source": [
        "## Adjacency List\n"
      ],
      "metadata": {
        "id": "Jv4pzzqA7zpO"
      }
    },
    {
      "cell_type": "code",
      "source": [
        "from collections import defaultdict\n",
        "\n",
        "al = defaultdict(list)\n",
        "\n",
        "for s,d in e:\n",
        "  al[s].append(d)\n",
        "\n",
        "al"
      ],
      "metadata": {
        "colab": {
          "base_uri": "https://localhost:8080/"
        },
        "id": "5RwJGnZq72Ag",
        "outputId": "d3aff9b7-1ac5-4357-a399-8afe458e42eb"
      },
      "execution_count": 11,
      "outputs": [
        {
          "output_type": "execute_result",
          "data": {
            "text/plain": [
              "defaultdict(list, {0: [1, 3], 1: [2], 3: [4, 6, 7], 4: [2, 5], 5: [2]})"
            ]
          },
          "metadata": {},
          "execution_count": 11
        }
      ]
    },
    {
      "cell_type": "markdown",
      "source": [
        "### DFS\n",
        "#### 1. Recursion"
      ],
      "metadata": {
        "id": "31mybaFT8LZQ"
      }
    },
    {
      "cell_type": "code",
      "source": [
        "def recursiveDFS(node):\n",
        "  print(node)\n",
        "  for neighbor in al[node]:\n",
        "    if neighbor not in seen:\n",
        "      seen.add(neighbor)\n",
        "      recursiveDFS(neighbor)\n",
        "\n",
        "source = 0\n",
        "seen = set()\n",
        "seen.add(source)\n",
        "recursiveDFS(source)\n"
      ],
      "metadata": {
        "colab": {
          "base_uri": "https://localhost:8080/"
        },
        "id": "0ftA-Jn08NNg",
        "outputId": "61db25a1-1d60-4f54-e100-6a9e1c8c0df8"
      },
      "execution_count": 12,
      "outputs": [
        {
          "output_type": "stream",
          "name": "stdout",
          "text": [
            "0\n",
            "1\n",
            "2\n",
            "3\n",
            "4\n",
            "5\n",
            "6\n",
            "7\n"
          ]
        }
      ]
    },
    {
      "cell_type": "markdown",
      "source": [
        "#### 2. Iterative"
      ],
      "metadata": {
        "id": "3vNMSNjG9sQB"
      }
    },
    {
      "cell_type": "code",
      "source": [
        "stk = []\n",
        "seen = set()\n",
        "source = 0\n",
        "seen.add(source)\n",
        "stk.append(source)\n",
        "\n",
        "while stk:\n",
        "  node = stk.pop()\n",
        "  print(node)\n",
        "  for neighbor in al[node]:\n",
        "    if neighbor not in seen:\n",
        "      stk.append(neighbor)\n",
        "      seen.add(neighbor)\n",
        "\n"
      ],
      "metadata": {
        "colab": {
          "base_uri": "https://localhost:8080/"
        },
        "id": "IAWzBbmE9t9E",
        "outputId": "48a5b053-b518-43c8-bb15-da4d59f73b7d"
      },
      "execution_count": 13,
      "outputs": [
        {
          "output_type": "stream",
          "name": "stdout",
          "text": [
            "0\n",
            "3\n",
            "7\n",
            "6\n",
            "4\n",
            "5\n",
            "2\n",
            "1\n"
          ]
        }
      ]
    },
    {
      "cell_type": "markdown",
      "source": [
        "## BFS\n",
        "#### 1. Iterative"
      ],
      "metadata": {
        "id": "DkUf8ih__oLI"
      }
    },
    {
      "cell_type": "code",
      "source": [
        "from collections import deque\n",
        "\n",
        "source = 0\n",
        "seen = set()\n",
        "seen.add(source)\n",
        "q = deque()\n",
        "q.append(source)\n",
        "\n",
        "while q:\n",
        "  node = q.popleft()\n",
        "  print(node)\n",
        "  for neighbor in al[node]:\n",
        "    if neighbor not in seen:\n",
        "      q.append(neighbor)\n",
        "      seen.add(neighbor)"
      ],
      "metadata": {
        "colab": {
          "base_uri": "https://localhost:8080/"
        },
        "id": "I3w1NFd7_ri6",
        "outputId": "e64da387-396c-4b37-f0dd-ab3749002bcd"
      },
      "execution_count": 14,
      "outputs": [
        {
          "output_type": "stream",
          "name": "stdout",
          "text": [
            "0\n",
            "1\n",
            "3\n",
            "2\n",
            "4\n",
            "6\n",
            "7\n",
            "5\n"
          ]
        }
      ]
    },
    {
      "cell_type": "markdown",
      "source": [
        "#### 2. Recursive BFS"
      ],
      "metadata": {
        "id": "hGSpn5DbAse_"
      }
    },
    {
      "cell_type": "code",
      "source": [
        "from collections import deque\n",
        "\n",
        "def recursiveBFS(al, q, seen):\n",
        "    if not q:\n",
        "        return\n",
        "\n",
        "    node = q.popleft()\n",
        "    print(node)  # Process the node\n",
        "\n",
        "    for neighbor in al[node]:\n",
        "        if neighbor not in seen:\n",
        "            seen.add(neighbor)\n",
        "            q.append(neighbor)\n",
        "\n",
        "    recursiveBFS(al, q, seen)\n",
        "\n",
        "# Initialize BFS\n",
        "source = 0\n",
        "q = deque([source])\n",
        "seen = set([source])\n",
        "\n",
        "# Run recursive BFS\n",
        "recursiveBFS(al, q, seen)"
      ],
      "metadata": {
        "colab": {
          "base_uri": "https://localhost:8080/"
        },
        "id": "BVQ-SD9FAunx",
        "outputId": "e206fb25-cbcc-4212-ec7d-35371c570f8c"
      },
      "execution_count": 19,
      "outputs": [
        {
          "output_type": "stream",
          "name": "stdout",
          "text": [
            "0\n",
            "1\n",
            "3\n",
            "2\n",
            "4\n",
            "6\n",
            "7\n",
            "5\n"
          ]
        }
      ]
    },
    {
      "cell_type": "markdown",
      "source": [
        "Recursive isn't preferred since it uses queue and recursion usually uses a call stack but we can make it work in recursive using queue."
      ],
      "metadata": {
        "id": "fyoodRibBtly"
      }
    }
  ]
}