{
  "nbformat": 4,
  "nbformat_minor": 0,
  "metadata": {
    "colab": {
      "provenance": [],
      "authorship_tag": "ABX9TyNgwS1y7AMjjt5l3DDXTahU",
      "include_colab_link": true
    },
    "kernelspec": {
      "name": "python3",
      "display_name": "Python 3"
    },
    "language_info": {
      "name": "python"
    }
  },
  "cells": [
    {
      "cell_type": "markdown",
      "metadata": {
        "id": "view-in-github",
        "colab_type": "text"
      },
      "source": [
        "<a href=\"https://colab.research.google.com/github/AdeshOak/DSA-Python/blob/main/Binary_Trees_%26_BST.ipynb\" target=\"_parent\"><img src=\"https://colab.research.google.com/assets/colab-badge.svg\" alt=\"Open In Colab\"/></a>"
      ]
    },
    {
      "cell_type": "code",
      "execution_count": 2,
      "metadata": {
        "id": "oyw9_lY2n5V4"
      },
      "outputs": [],
      "source": [
        "class TreeNode:\n",
        "  def __init__(self, val, left = None, right=None):\n",
        "    self.val = val\n",
        "    self.left = left\n",
        "    self.right = right\n",
        "\n",
        "  def __str__(self):\n",
        "    return str(self.val)"
      ]
    },
    {
      "cell_type": "code",
      "source": [
        "NodeA = TreeNode(1)\n",
        "NodeB = TreeNode(2)\n",
        "NodeC = TreeNode(3)\n",
        "NodeD = TreeNode(4)\n",
        "NodeE = TreeNode(5)\n",
        "\n",
        "\n",
        "NodeA.left = NodeB\n",
        "NodeA.right = NodeC\n",
        "NodeB.left = NodeD\n",
        "NodeB.right = NodeE\n",
        "\n",
        "print(NodeA)"
      ],
      "metadata": {
        "colab": {
          "base_uri": "https://localhost:8080/"
        },
        "id": "43UAn116ogWi",
        "outputId": "5989440d-5145-41cf-b10a-127652d8ea80"
      },
      "execution_count": 3,
      "outputs": [
        {
          "output_type": "stream",
          "name": "stdout",
          "text": [
            "1\n"
          ]
        }
      ]
    },
    {
      "cell_type": "code",
      "source": [
        "def dfsinorder(root):\n",
        "  stk = []\n",
        "  curr = root\n",
        "  while curr is not None or len(stk)>0:\n",
        "\n",
        "    while curr is not None:\n",
        "      stk.append(curr)\n",
        "      curr = curr.left\n",
        "\n",
        "    curr = stk.pop()\n",
        "    print(curr.val)\n",
        "    curr = curr.right\n",
        "\n",
        "dfsinorder(NodeA)\n",
        "\n"
      ],
      "metadata": {
        "colab": {
          "base_uri": "https://localhost:8080/"
        },
        "id": "uZHDUckEo_pP",
        "outputId": "0354d3b8-8525-4d2c-edd5-b061fddcf392"
      },
      "execution_count": 5,
      "outputs": [
        {
          "output_type": "stream",
          "name": "stdout",
          "text": [
            "4\n",
            "2\n",
            "5\n",
            "1\n",
            "3\n"
          ]
        }
      ]
    },
    {
      "cell_type": "code",
      "source": [
        "def dfspreorder(root):\n",
        "  stk = []\n",
        "  stk.append(root)\n",
        "\n",
        "  while stk:\n",
        "    node = stk.pop()\n",
        "    print(node.val)\n",
        "\n",
        "    if node.right is not None:\n",
        "      stk.append(node.right)\n",
        "    if node.left is not None:\n",
        "      stk.append(node.left)\n",
        "\n",
        "dfspreorder(NodeA)"
      ],
      "metadata": {
        "colab": {
          "base_uri": "https://localhost:8080/"
        },
        "id": "kau6kSZkr4uZ",
        "outputId": "0a6ae0c8-22de-4fc1-dfc4-e4a44e2ad3dd"
      },
      "execution_count": 7,
      "outputs": [
        {
          "output_type": "stream",
          "name": "stdout",
          "text": [
            "1\n",
            "2\n",
            "4\n",
            "5\n",
            "3\n"
          ]
        }
      ]
    },
    {
      "cell_type": "code",
      "source": [
        "def dfspostorder(root):\n",
        "  stk = []\n",
        "  stk.append(root)\n",
        "\n",
        "  while stk:\n",
        "    node = stk.pop()\n",
        "    print(node.val)\n",
        "\n",
        "    if node.left is not None:\n",
        "      stk.append(node.left)\n",
        "\n",
        "    if node.right is not None:\n",
        "      stk.append(node.right)\n",
        "\n",
        "\n",
        "dfspostorder(NodeA)"
      ],
      "metadata": {
        "colab": {
          "base_uri": "https://localhost:8080/"
        },
        "id": "FscLLgO-tDIS",
        "outputId": "d9165c0a-dd9c-4fe3-f001-0082d53e01c5"
      },
      "execution_count": 9,
      "outputs": [
        {
          "output_type": "stream",
          "name": "stdout",
          "text": [
            "1\n",
            "3\n",
            "2\n",
            "5\n",
            "4\n"
          ]
        }
      ]
    }
  ]
}